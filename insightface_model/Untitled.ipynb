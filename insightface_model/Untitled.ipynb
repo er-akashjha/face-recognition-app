{
 "cells": [
  {
   "cell_type": "code",
   "execution_count": null,
   "id": "0228f1e1-3ccf-42ac-a60c-7381fff3368e",
   "metadata": {},
   "outputs": [],
   "source": []
  }
 ],
 "metadata": {
  "kernelspec": {
   "display_name": "",
   "name": ""
  },
  "language_info": {
   "name": ""
  }
 },
 "nbformat": 4,
 "nbformat_minor": 5
}
